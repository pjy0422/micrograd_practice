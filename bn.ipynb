{
 "cells": [
  {
   "cell_type": "code",
   "execution_count": 16,
   "metadata": {},
   "outputs": [],
   "source": [
    "import torch\n",
    "import torch.nn.functional as F\n",
    "import random\n",
    "import matplotlib.pyplot as plt"
   ]
  },
  {
   "cell_type": "code",
   "execution_count": 17,
   "metadata": {},
   "outputs": [],
   "source": [
    "with open(\"names.txt\", \"r\") as f:\n",
    "    words = f.read().splitlines()\n",
    "chars = [\".\"] + sorted(list(set(\"\".join(words))))\n",
    "stoi = {c: i for i, c in enumerate(chars)}\n",
    "itos = {i: c for i, c in enumerate(chars)}\n",
    "block_size = 3\n",
    "vocab_size = len(itos)\n",
    "embedding_size = 10\n",
    "hidden_size = 200"
   ]
  },
  {
   "cell_type": "code",
   "execution_count": 18,
   "metadata": {},
   "outputs": [],
   "source": [
    "def build_dataset(words, block_size):\n",
    "    X, y = [], []\n",
    "    for w in words:\n",
    "        context = [0] * block_size\n",
    "        for ch in w + \".\":\n",
    "            ix = stoi[ch]\n",
    "            X.append(context)\n",
    "            y.append(ix)\n",
    "            context = context[1:] + [ix]\n",
    "    return torch.tensor(X), torch.tensor(y)\n",
    "\n",
    "\n",
    "def split_dataset(words):\n",
    "    random.seed(42)\n",
    "    random.shuffle(words)\n",
    "    n1 = int(0.8 * len(words))\n",
    "    n2 = int(0.9 * len(words))\n",
    "    train = words[:n1]\n",
    "    dev = words[n1:n2]\n",
    "    test = words[n2:]\n",
    "    X_train, y_train = build_dataset(train, block_size)\n",
    "    X_dev, y_dev = build_dataset(dev, block_size)\n",
    "    X_test, y_test = build_dataset(test, block_size)\n",
    "    return X_train, y_train, X_dev, y_dev, X_test, y_test\n",
    "\n",
    "\n",
    "X_train, y_train, X_dev, y_dev, X_test, y_test = split_dataset(words)"
   ]
  },
  {
   "cell_type": "code",
   "execution_count": 19,
   "metadata": {},
   "outputs": [],
   "source": [
    "gain = 5 / 3\n",
    "fan_in = block_size * embedding_size\n",
    "g = torch.Generator().manual_seed(42)\n",
    "C = torch.randn((vocab_size, embedding_size), generator=g)\n",
    "W1 = (\n",
    "    torch.randn((block_size * embedding_size, hidden_size), generator=g)\n",
    "    * gain\n",
    "    / (fan_in**0.5)\n",
    ")\n",
    "# b1 = torch.randn(hidden_size, generator=g) * 0.01\n",
    "W2 = torch.randn((hidden_size, vocab_size), generator=g) * 0.01\n",
    "b2 = torch.randn(vocab_size, generator=g) * 0\n",
    "\n",
    "bngain = torch.ones((1, hidden_size))\n",
    "bnbias = torch.zeros((1, hidden_size))\n",
    "bnmean_running = torch.zeros((1, hidden_size))\n",
    "bnstd_running = torch.ones((1, hidden_size))\n",
    "parameters = [C, W1, W2, b2, bngain, bnbias]\n",
    "for p in parameters:\n",
    "    p.requires_grad = True"
   ]
  },
  {
   "cell_type": "code",
   "execution_count": 20,
   "metadata": {},
   "outputs": [
    {
     "name": "stdout",
     "output_type": "stream",
     "text": [
      "0 / 200000, loss: 3.2906885147094727\n"
     ]
    },
    {
     "ename": "KeyboardInterrupt",
     "evalue": "",
     "output_type": "error",
     "traceback": [
      "\u001b[0;31m---------------------------------------------------------------------------\u001b[0m",
      "\u001b[0;31mKeyboardInterrupt\u001b[0m                         Traceback (most recent call last)",
      "Cell \u001b[0;32mIn[20], line 21\u001b[0m\n\u001b[1;32m     19\u001b[0m \u001b[38;5;28;01mfor\u001b[39;00m p \u001b[38;5;129;01min\u001b[39;00m parameters:\n\u001b[1;32m     20\u001b[0m     p\u001b[38;5;241m.\u001b[39mgrad \u001b[38;5;241m=\u001b[39m \u001b[38;5;28;01mNone\u001b[39;00m\n\u001b[0;32m---> 21\u001b[0m \u001b[43mloss\u001b[49m\u001b[38;5;241;43m.\u001b[39;49m\u001b[43mbackward\u001b[49m\u001b[43m(\u001b[49m\u001b[43m)\u001b[49m\n\u001b[1;32m     22\u001b[0m lr \u001b[38;5;241m=\u001b[39m \u001b[38;5;241m0.1\u001b[39m \u001b[38;5;28;01mif\u001b[39;00m i \u001b[38;5;241m<\u001b[39m \u001b[38;5;241m100000\u001b[39m \u001b[38;5;28;01melse\u001b[39;00m \u001b[38;5;241m0.01\u001b[39m\n\u001b[1;32m     23\u001b[0m \u001b[38;5;28;01mfor\u001b[39;00m p \u001b[38;5;129;01min\u001b[39;00m parameters:\n",
      "File \u001b[0;32m~/anaconda3/envs/venv_311/lib/python3.11/site-packages/torch/_tensor.py:487\u001b[0m, in \u001b[0;36mTensor.backward\u001b[0;34m(self, gradient, retain_graph, create_graph, inputs)\u001b[0m\n\u001b[1;32m    477\u001b[0m \u001b[38;5;28;01mif\u001b[39;00m has_torch_function_unary(\u001b[38;5;28mself\u001b[39m):\n\u001b[1;32m    478\u001b[0m     \u001b[38;5;28;01mreturn\u001b[39;00m handle_torch_function(\n\u001b[1;32m    479\u001b[0m         Tensor\u001b[38;5;241m.\u001b[39mbackward,\n\u001b[1;32m    480\u001b[0m         (\u001b[38;5;28mself\u001b[39m,),\n\u001b[0;32m   (...)\u001b[0m\n\u001b[1;32m    485\u001b[0m         inputs\u001b[38;5;241m=\u001b[39minputs,\n\u001b[1;32m    486\u001b[0m     )\n\u001b[0;32m--> 487\u001b[0m \u001b[43mtorch\u001b[49m\u001b[38;5;241;43m.\u001b[39;49m\u001b[43mautograd\u001b[49m\u001b[38;5;241;43m.\u001b[39;49m\u001b[43mbackward\u001b[49m\u001b[43m(\u001b[49m\n\u001b[1;32m    488\u001b[0m \u001b[43m    \u001b[49m\u001b[38;5;28;43mself\u001b[39;49m\u001b[43m,\u001b[49m\u001b[43m \u001b[49m\u001b[43mgradient\u001b[49m\u001b[43m,\u001b[49m\u001b[43m \u001b[49m\u001b[43mretain_graph\u001b[49m\u001b[43m,\u001b[49m\u001b[43m \u001b[49m\u001b[43mcreate_graph\u001b[49m\u001b[43m,\u001b[49m\u001b[43m \u001b[49m\u001b[43minputs\u001b[49m\u001b[38;5;241;43m=\u001b[39;49m\u001b[43minputs\u001b[49m\n\u001b[1;32m    489\u001b[0m \u001b[43m\u001b[49m\u001b[43m)\u001b[49m\n",
      "File \u001b[0;32m~/anaconda3/envs/venv_311/lib/python3.11/site-packages/torch/autograd/__init__.py:200\u001b[0m, in \u001b[0;36mbackward\u001b[0;34m(tensors, grad_tensors, retain_graph, create_graph, grad_variables, inputs)\u001b[0m\n\u001b[1;32m    195\u001b[0m     retain_graph \u001b[38;5;241m=\u001b[39m create_graph\n\u001b[1;32m    197\u001b[0m \u001b[38;5;66;03m# The reason we repeat same the comment below is that\u001b[39;00m\n\u001b[1;32m    198\u001b[0m \u001b[38;5;66;03m# some Python versions print out the first line of a multi-line function\u001b[39;00m\n\u001b[1;32m    199\u001b[0m \u001b[38;5;66;03m# calls in the traceback and some print out the last line\u001b[39;00m\n\u001b[0;32m--> 200\u001b[0m \u001b[43mVariable\u001b[49m\u001b[38;5;241;43m.\u001b[39;49m\u001b[43m_execution_engine\u001b[49m\u001b[38;5;241;43m.\u001b[39;49m\u001b[43mrun_backward\u001b[49m\u001b[43m(\u001b[49m\u001b[43m  \u001b[49m\u001b[38;5;66;43;03m# Calls into the C++ engine to run the backward pass\u001b[39;49;00m\n\u001b[1;32m    201\u001b[0m \u001b[43m    \u001b[49m\u001b[43mtensors\u001b[49m\u001b[43m,\u001b[49m\u001b[43m \u001b[49m\u001b[43mgrad_tensors_\u001b[49m\u001b[43m,\u001b[49m\u001b[43m \u001b[49m\u001b[43mretain_graph\u001b[49m\u001b[43m,\u001b[49m\u001b[43m \u001b[49m\u001b[43mcreate_graph\u001b[49m\u001b[43m,\u001b[49m\u001b[43m \u001b[49m\u001b[43minputs\u001b[49m\u001b[43m,\u001b[49m\n\u001b[1;32m    202\u001b[0m \u001b[43m    \u001b[49m\u001b[43mallow_unreachable\u001b[49m\u001b[38;5;241;43m=\u001b[39;49m\u001b[38;5;28;43;01mTrue\u001b[39;49;00m\u001b[43m,\u001b[49m\u001b[43m \u001b[49m\u001b[43maccumulate_grad\u001b[49m\u001b[38;5;241;43m=\u001b[39;49m\u001b[38;5;28;43;01mTrue\u001b[39;49;00m\u001b[43m)\u001b[49m\n",
      "\u001b[0;31mKeyboardInterrupt\u001b[0m: "
     ]
    }
   ],
   "source": [
    "max_steps = 200000\n",
    "batch_size = 32\n",
    "lossi = []\n",
    "for i in range(max_steps):\n",
    "    ix = torch.randint(0, len(X_train), (batch_size,))\n",
    "    Xb, yb = X_train[ix], y_train[ix]\n",
    "    emb = C[Xb]\n",
    "    emb_cat = emb.view(-1, block_size * embedding_size)\n",
    "    hpreact = emb_cat @ W1\n",
    "    bnmeani = hpreact.mean(0, keepdim=True)\n",
    "    bnstdi = hpreact.std(0, keepdim=True)\n",
    "    hpreact = bngain * (hpreact - bnmeani) / bnstdi + bnbias\n",
    "    with torch.no_grad():\n",
    "        bnmean_running = 0.999 * bnmean_running + 0.001 * bnmeani\n",
    "        bnstd_running = 0.999 * bnstd_running + 0.001 * bnstdi\n",
    "    h = torch.tanh(hpreact)\n",
    "    logits = h @ W2 + b2\n",
    "    loss = F.cross_entropy(logits, yb)\n",
    "    for p in parameters:\n",
    "        p.grad = None\n",
    "    loss.backward()\n",
    "    lr = 0.1 if i < 100000 else 0.01\n",
    "    for p in parameters:\n",
    "        p.data -= lr * p.grad\n",
    "\n",
    "    if i % 10000 == 0:\n",
    "        print(f\"{i} / {max_steps}, loss: {loss.item()}\")\n",
    "    lossi.append(loss.log10().item())"
   ]
  },
  {
   "cell_type": "code",
   "execution_count": null,
   "metadata": {},
   "outputs": [
    {
     "data": {
      "text/plain": [
       "(array([449., 230., 167., 137., 144., 133., 101., 110.,  92.,  99., 106.,\n",
       "         96.,  93.,  93.,  72., 114., 114.,  91.,  75.,  87., 113., 112.,\n",
       "        161., 131., 113., 129., 129.,  82.,  91.,  71., 115., 109., 100.,\n",
       "         76.,  94., 100., 111.,  74., 117., 101., 121.,  99.,  99., 110.,\n",
       "        104., 143., 148., 165., 220., 459.]),\n",
       " array([-9.99957621e-01, -9.59958558e-01, -9.19959495e-01, -8.79960432e-01,\n",
       "        -8.39961369e-01, -7.99962306e-01, -7.59963243e-01, -7.19964180e-01,\n",
       "        -6.79965117e-01, -6.39966054e-01, -5.99966991e-01, -5.59967928e-01,\n",
       "        -5.19968865e-01, -4.79969802e-01, -4.39970739e-01, -3.99971676e-01,\n",
       "        -3.59972613e-01, -3.19973550e-01, -2.79974487e-01, -2.39975424e-01,\n",
       "        -1.99976361e-01, -1.59977298e-01, -1.19978235e-01, -7.99791718e-02,\n",
       "        -3.99801087e-02,  1.89542770e-05,  4.00180173e-02,  8.00170803e-02,\n",
       "         1.20016143e-01,  1.60015206e-01,  2.00014269e-01,  2.40013332e-01,\n",
       "         2.80012395e-01,  3.20011458e-01,  3.60010521e-01,  4.00009584e-01,\n",
       "         4.40008647e-01,  4.80007710e-01,  5.20006773e-01,  5.60005836e-01,\n",
       "         6.00004900e-01,  6.40003963e-01,  6.80003026e-01,  7.20002089e-01,\n",
       "         7.60001152e-01,  8.00000215e-01,  8.39999278e-01,  8.79998341e-01,\n",
       "         9.19997404e-01,  9.59996467e-01,  9.99995530e-01]),\n",
       " <BarContainer object of 50 artists>)"
      ]
     },
     "execution_count": 11,
     "metadata": {},
     "output_type": "execute_result"
    },
    {
     "data": {
      "image/png": "[encoded data removed]",
      "text/plain": [
       "<Figure size 640x480 with 1 Axes>"
      ]
     },
     "metadata": {},
     "output_type": "display_data"
    }
   ],
   "source": [
    "plt.hist(h.view(-1).tolist(), bins=50)"
   ]
  },
  {
   "cell_type": "code",
   "execution_count": null,
   "metadata": {},
   "outputs": [
    {
     "data": {
      "text/plain": [
       "(array([  2.,   2.,   0.,   2.,   3.,  10.,  10.,  19.,  28.,  39.,  38.,\n",
       "         52.,  84., 110., 142., 148., 181., 252., 298., 355., 416., 559.,\n",
       "        753., 540., 452., 422., 284., 268., 185., 170., 134., 114.,  80.,\n",
       "         58.,  40.,  40.,  40.,  25.,  16.,   7.,   2.,   7.,   2.,   1.,\n",
       "          3.,   1.,   1.,   2.,   2.,   1.]),\n",
       " array([-5.38103628, -5.14333303, -4.90562979, -4.66792654, -4.43022329,\n",
       "        -4.19252005, -3.9548168 , -3.71711355, -3.47941031, -3.24170706,\n",
       "        -3.00400381, -2.76630056, -2.52859732, -2.29089407, -2.05319082,\n",
       "        -1.81548758, -1.57778433, -1.34008108, -1.10237783, -0.86467459,\n",
       "        -0.62697134, -0.38926809, -0.15156485,  0.0861384 ,  0.32384165,\n",
       "         0.5615449 ,  0.79924814,  1.03695139,  1.27465464,  1.51235788,\n",
       "         1.75006113,  1.98776438,  2.22546762,  2.46317087,  2.70087412,\n",
       "         2.93857737,  3.17628061,  3.41398386,  3.65168711,  3.88939035,\n",
       "         4.1270936 ,  4.36479685,  4.6025001 ,  4.84020334,  5.07790659,\n",
       "         5.31560984,  5.55331308,  5.79101633,  6.02871958,  6.26642282,\n",
       "         6.50412607]),\n",
       " <BarContainer object of 50 artists>)"
      ]
     },
     "execution_count": 12,
     "metadata": {},
     "output_type": "execute_result"
    },
    {
     "data": {
      "image/png": "[encoded data removed]",
      "text/plain": [
       "<Figure size 640x480 with 1 Axes>"
      ]
     },
     "metadata": {},
     "output_type": "display_data"
    }
   ],
   "source": [
    "plt.hist(hpreact.view(-1).tolist(), bins=50)"
   ]
  },
  {
   "cell_type": "code",
   "execution_count": null,
   "metadata": {},
   "outputs": [
    {
     "data": {
      "text/plain": [
       "[<matplotlib.lines.Line2D at 0x7f2460f99070>]"
      ]
     },
     "execution_count": 13,
     "metadata": {},
     "output_type": "execute_result"
    },
    {
     "data": {
      "image/png": "[encoded data removed]",
      "text/plain": [
       "<Figure size 640x480 with 1 Axes>"
      ]
     },
     "metadata": {},
     "output_type": "display_data"
    }
   ],
   "source": [
    "plt.plot(lossi)"
   ]
  },
  {
   "cell_type": "code",
   "execution_count": null,
   "metadata": {},
   "outputs": [
    {
     "name": "stdout",
     "output_type": "stream",
     "text": [
      "train 2.0692358016967773\n",
      "val 2.1137099266052246\n"
     ]
    }
   ],
   "source": [
    "@torch.no_grad()\n",
    "def split_loss(split):\n",
    "    X, y = {\n",
    "        \"train\": (X_train, y_train),\n",
    "        \"val\": (X_dev, y_dev),\n",
    "        \"test\": (X_test, y_test),\n",
    "    }[split]\n",
    "    emb = C[X]\n",
    "    emb_cat = emb.view(-1, block_size * embedding_size)\n",
    "    hpreact = emb_cat @ W1\n",
    "    hpreact = bngain * (hpreact - bnmean_running) / bnstd_running + bnbias\n",
    "    h = torch.tanh(hpreact)\n",
    "    logits = h @ W2 + b2\n",
    "    loss = F.cross_entropy(logits, y)\n",
    "    print(split, loss.item())\n",
    "\n",
    "\n",
    "split_loss(\"train\")\n",
    "split_loss(\"val\")"
   ]
  },
  {
   "cell_type": "code",
   "execution_count": null,
   "metadata": {},
   "outputs": [
    {
     "name": "stdout",
     "output_type": "stream",
     "text": [
      "prigh.\n",
      "qliersbellessatonllyannophtishaqliahrydajoelleimarcynce.\n",
      "lishbahryrah.\n",
      "erra.\n",
      "erilmirah.\n",
      "thanindif.\n",
      "evallyxessdorssadna.\n",
      "jahkhirzhirzhadryliahlyncksholuwatder.\n",
      "quaraidershquennvamillynebtulck.\n",
      "jourdilandwrorgh.\n",
      "gabrilynathmariahmillyuthyna.\n",
      "evallivio.\n",
      "damstiamrishold.\n",
      "pabbryn.\n",
      "allamder.\n",
      "qliahrah.\n",
      "talandrwgold.\n",
      "phingt.\n",
      "pynsleigh.\n",
      "jpragdnx.\n"
     ]
    }
   ],
   "source": [
    "# sample from the model\n",
    "g = torch.Generator().manual_seed(10)\n",
    "\n",
    "for _ in range(20):\n",
    "    out = []\n",
    "    context = [0] * block_size\n",
    "    while True:\n",
    "        emb = C[torch.tensor(context)]\n",
    "        h = torch.tanh(emb.view(1, -1) @ W1)\n",
    "        logits = h @ W2 + b2\n",
    "        probs = F.softmax(logits, dim=1)\n",
    "        ix = torch.multinomial(probs, num_samples=1, generator=g).item()\n",
    "        context = context[1:] + [ix]\n",
    "\n",
    "        out.append(ix)\n",
    "        if ix == 0:\n",
    "            break\n",
    "    print(\"\".join(itos[i] for i in out))"
   ]
  },
  {
   "cell_type": "code",
   "execution_count": null,
   "metadata": {},
   "outputs": [],
   "source": [
    "# SUMMARY + PYTORCHIFYING -----------"
   ]
  },
  {
   "cell_type": "code",
   "execution_count": 25,
   "metadata": {},
   "outputs": [
    {
     "name": "stdout",
     "output_type": "stream",
     "text": [
      "25124\n"
     ]
    }
   ],
   "source": [
    "class Linear:\n",
    "    def __init__(self, fan_in, fan_out, bias=True):\n",
    "        self.weight = (\n",
    "            torch.randn(fan_in, fan_out, generator=g) * gain / (fan_in**0.5)\n",
    "        )\n",
    "        self.bias = torch.zeros(fan_out) if bias else None\n",
    "\n",
    "    def __call__(self, x):\n",
    "        self.out = x @ self.weight\n",
    "        if self.bias is not None:\n",
    "            self.out += self.bias\n",
    "        return self.out\n",
    "\n",
    "    def parameters(self):\n",
    "        return [self.weight] + ([] if self.bias is None else [self.bias])\n",
    "\n",
    "\n",
    "class BatchNorm1d:\n",
    "    def __init__(self, dim, eps=1e-5, momentum=0.1):\n",
    "        self.eps = eps\n",
    "        self.momentum = momentum\n",
    "        self.training = True\n",
    "        # parameters (trained with backprop)\n",
    "        self.gamma = torch.ones(dim)\n",
    "        self.beta = torch.zeros(dim)\n",
    "        # buffers (trained with a runnning 'momentum update')\n",
    "        self.running_mean = torch.zeros(dim)\n",
    "        self.running_var = torch.ones(dim)\n",
    "\n",
    "    def __call__(self, x):\n",
    "        if self.training:\n",
    "            xmean = x.mean(0, keepdim=True)\n",
    "            xvar = x.var(0, keepdim=True)\n",
    "        else:\n",
    "            xmean = self.running_mean\n",
    "            xvar = self.running_var\n",
    "        xhat = (x - xmean) / torch.sqrt(xvar + self.eps)\n",
    "        self.out = self.gamma * xhat + self.beta\n",
    "        if self.training:\n",
    "            self.running_mean = (\n",
    "                1 - self.momentum\n",
    "            ) * self.running_mean + self.momentum * xmean\n",
    "            self.running_var = (\n",
    "                1 - self.momentum\n",
    "            ) * self.running_var + self.momentum * xvar\n",
    "\n",
    "        return self.out\n",
    "\n",
    "    def parameters(self):\n",
    "        return [self.gamma, self.beta]\n",
    "\n",
    "\n",
    "class Tanh:\n",
    "    def __call__(self, x):\n",
    "        self.out = x.tanh()\n",
    "        return self.out\n",
    "\n",
    "    def parameters(self):\n",
    "        return []\n",
    "\n",
    "\n",
    "vocab_size = len(itos)\n",
    "n_embed = 10\n",
    "n_hidden = 100\n",
    "g = torch.Generator().manual_seed(42)\n",
    "C = torch.randn((vocab_size, n_embed), generator=g)\n",
    "layers = [\n",
    "    Linear(n_embed * block_size, n_hidden, bias=False),\n",
    "    BatchNorm1d(n_hidden),\n",
    "    Tanh(),\n",
    "    Linear(n_hidden, n_hidden, bias=False),\n",
    "    BatchNorm1d(n_hidden),\n",
    "    Tanh(),\n",
    "    Linear(n_hidden, n_hidden, bias=False),\n",
    "    BatchNorm1d(n_hidden),\n",
    "    Tanh(),\n",
    "    Linear(n_hidden, n_hidden, bias=False),\n",
    "    BatchNorm1d(n_hidden),\n",
    "    Tanh(),\n",
    "    Linear(n_hidden, n_hidden, bias=False),\n",
    "    BatchNorm1d(n_hidden),\n",
    "    Tanh(),\n",
    "    Linear(n_hidden, vocab_size, bias=False),\n",
    "    BatchNorm1d(vocab_size),\n",
    "]\n",
    "with torch.no_grad():\n",
    "    layers[-1].gamma *= 0.1\n",
    "    for layer in layers[:-1]:\n",
    "        if isinstance(layer, Linear):\n",
    "            layer.weight *= 1.0\n",
    "parameters = [C] + [p for layer in layers for p in layer.parameters()]\n",
    "print(sum(p.nelement() for p in parameters))\n",
    "for p in parameters:\n",
    "    p.requires_grad = True"
   ]
  },
  {
   "cell_type": "code",
   "execution_count": null,
   "metadata": {},
   "outputs": [],
   "source": []
  }
 ],
 "metadata": {
  "kernelspec": {
   "display_name": "venv_311",
   "language": "python",
   "name": "python3"
  },
  "language_info": {
   "codemirror_mode": {
    "name": "ipython",
    "version": 3
   },
   "file_extension": ".py",
   "mimetype": "text/x-python",
   "name": "python",
   "nbconvert_exporter": "python",
   "pygments_lexer": "ipython3",
   "version": "3.11.9"
  }
 },
 "nbformat": 4,
 "nbformat_minor": 2
}
