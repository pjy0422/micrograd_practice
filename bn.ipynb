{
 "cells": [
  {
   "cell_type": "code",
   "execution_count": 1,
   "metadata": {},
   "outputs": [],
   "source": [
    "import torch\n",
    "import torch.nn.functional as F\n",
    "import random\n",
    "import matplotlib.pyplot as plt"
   ]
  },
  {
   "cell_type": "code",
   "execution_count": 2,
   "metadata": {},
   "outputs": [],
   "source": [
    "with open(\"names.txt\", \"r\") as f:\n",
    "    words = f.read().splitlines()\n",
    "chars = [\".\"] + sorted(list(set(\"\".join(words))))\n",
    "stoi = {c: i for i, c in enumerate(chars)}\n",
    "itos = {i: c for i, c in enumerate(chars)}\n",
    "block_size = 3\n",
    "vocab_size = len(itos)\n",
    "embedding_size = 10\n",
    "hidden_size = 200"
   ]
  },
  {
   "cell_type": "code",
   "execution_count": 3,
   "metadata": {},
   "outputs": [],
   "source": [
    "def build_dataset(words, block_size):\n",
    "    X, y = [], []\n",
    "    for w in words:\n",
    "        context = [0] * block_size\n",
    "        for ch in w + \".\":\n",
    "            ix = stoi[ch]\n",
    "            X.append(context)\n",
    "            y.append(ix)\n",
    "            context = context[1:] + [ix]\n",
    "    return torch.tensor(X), torch.tensor(y)\n",
    "\n",
    "\n",
    "def split_dataset(words):\n",
    "    random.seed(42)\n",
    "    random.shuffle(words)\n",
    "    n1 = int(0.8 * len(words))\n",
    "    n2 = int(0.9 * len(words))\n",
    "    train = words[:n1]\n",
    "    dev = words[n1:n2]\n",
    "    test = words[n2:]\n",
    "    X_train, y_train = build_dataset(train, block_size)\n",
    "    X_dev, y_dev = build_dataset(dev, block_size)\n",
    "    X_test, y_test = build_dataset(test, block_size)\n",
    "    return X_train, y_train, X_dev, y_dev, X_test, y_test\n",
    "\n",
    "\n",
    "X_train, y_train, X_dev, y_dev, X_test, y_test = split_dataset(words)"
   ]
  },
  {
   "cell_type": "code",
   "execution_count": 4,
   "metadata": {},
   "outputs": [],
   "source": [
    "g = torch.Generator().manual_seed(42)\n",
    "C = torch.randn((vocab_size, embedding_size), generator=g)\n",
    "W1 = torch.randn((block_size * embedding_size, hidden_size), generator=g)\n",
    "b1 = torch.randn(hidden_size, generator=g)\n",
    "W2 = torch.randn((hidden_size, vocab_size), generator=g)\n",
    "b2 = torch.randn(vocab_size, generator=g)\n",
    "parameters = [C, W1, b1, W2, b2]\n",
    "for p in parameters:\n",
    "    p.requires_grad = True"
   ]
  },
  {
   "cell_type": "code",
   "execution_count": 5,
   "metadata": {},
   "outputs": [
    {
     "name": "stdout",
     "output_type": "stream",
     "text": [
      "0 / 200000, loss: 26.08124351501465\n",
      "10000 / 200000, loss: 2.725921154022217\n",
      "20000 / 200000, loss: 2.570828676223755\n",
      "30000 / 200000, loss: 2.017261505126953\n",
      "40000 / 200000, loss: 1.702070951461792\n",
      "50000 / 200000, loss: 2.7097530364990234\n",
      "60000 / 200000, loss: 2.183368682861328\n",
      "70000 / 200000, loss: 2.666766405105591\n",
      "80000 / 200000, loss: 2.1898810863494873\n",
      "90000 / 200000, loss: 1.8629530668258667\n",
      "100000 / 200000, loss: 1.9521985054016113\n",
      "110000 / 200000, loss: 2.348328113555908\n",
      "120000 / 200000, loss: 2.0691957473754883\n",
      "130000 / 200000, loss: 2.158890962600708\n",
      "140000 / 200000, loss: 2.1405539512634277\n",
      "150000 / 200000, loss: 2.2354896068573\n",
      "160000 / 200000, loss: 2.292982339859009\n",
      "170000 / 200000, loss: 2.170783519744873\n",
      "180000 / 200000, loss: 1.94773530960083\n",
      "190000 / 200000, loss: 2.181471824645996\n"
     ]
    }
   ],
   "source": [
    "max_steps = 200000\n",
    "batch_size = 32\n",
    "lossi = []\n",
    "for i in range(max_steps):\n",
    "    ix = torch.randint(0, len(X_train), (batch_size,))\n",
    "    Xb, yb = X_train[ix], y_train[ix]\n",
    "    emb = C[Xb]\n",
    "    emb_cat = emb.view(-1, block_size * embedding_size)\n",
    "    hpreact = emb_cat @ W1 + b1\n",
    "    h = torch.tanh(hpreact)\n",
    "    logits = h @ W2 + b2\n",
    "    loss = F.cross_entropy(logits, yb)\n",
    "    for p in parameters:\n",
    "        p.grad = None\n",
    "    loss.backward()\n",
    "    lr = 0.1 if i < 100000 else 0.01\n",
    "    for p in parameters:\n",
    "        p.data -= lr * p.grad\n",
    "\n",
    "    if i % 10000 == 0:\n",
    "        print(f\"{i} / {max_steps}, loss: {loss.item()}\")\n",
    "    lossi.append(loss.log10().item())"
   ]
  },
  {
   "cell_type": "code",
   "execution_count": 6,
   "metadata": {},
   "outputs": [
    {
     "data": {
      "text/plain": [
       "[<matplotlib.lines.Line2D at 0x77de17102090>]"
      ]
     },
     "execution_count": 6,
     "metadata": {},
     "output_type": "execute_result"
    },
    {
     "data": {
      "image/png": "[encoded data removed]",
      "text/plain": [
       "<Figure size 640x480 with 1 Axes>"
      ]
     },
     "metadata": {},
     "output_type": "display_data"
    }
   ],
   "source": [
    "plt.plot(lossi)"
   ]
  },
  {
   "cell_type": "code",
   "execution_count": 7,
   "metadata": {},
   "outputs": [
    {
     "name": "stdout",
     "output_type": "stream",
     "text": [
      "train 2.1173901557922363\n",
      "val 2.1572394371032715\n"
     ]
    }
   ],
   "source": [
    "@torch.no_grad()\n",
    "def split_loss(split):\n",
    "    X, y = {\n",
    "        \"train\": (X_train, y_train),\n",
    "        \"val\": (X_dev, y_dev),\n",
    "        \"test\": (X_test, y_test),\n",
    "    }[split]\n",
    "    emb = C[X]\n",
    "    emb_cat = emb.view(-1, block_size * embedding_size)\n",
    "    hpreact = emb_cat @ W1 + b1\n",
    "    h = torch.tanh(hpreact)\n",
    "    logits = h @ W2 + b2\n",
    "    loss = F.cross_entropy(logits, y)\n",
    "    print(split, loss.item())\n",
    "\n",
    "\n",
    "split_loss(\"train\")\n",
    "split_loss(\"val\")"
   ]
  },
  {
   "cell_type": "code",
   "execution_count": 14,
   "metadata": {},
   "outputs": [
    {
     "name": "stdout",
     "output_type": "stream",
     "text": [
      "pro.\n",
      "evy.\n",
      "leeyukien.\n",
      "noto.\n",
      "raya.\n",
      "copton.\n",
      "kaylin.\n",
      "dadajuel.\n",
      "cimbacai.\n",
      "emais.\n",
      "rayton.\n",
      "jaya.\n",
      "areotymira.\n",
      "kyham.\n",
      "arius.\n",
      "thik.\n",
      "anto.\n",
      "marshan.\n",
      "aubrensie.\n",
      "sadhan.\n"
     ]
    }
   ],
   "source": [
    "# sample from the model\n",
    "g = torch.Generator().manual_seed(10)\n",
    "\n",
    "for _ in range(20):\n",
    "    out = []\n",
    "    context = [0] * block_size\n",
    "    while True:\n",
    "        emb = C[torch.tensor(context)]\n",
    "        h = torch.tanh(emb.view(1,-1) @ W1 + b1)\n",
    "        logits = h @ W2 + b2\n",
    "        probs = F.softmax(logits, dim=1)\n",
    "        ix = torch.multinomial(probs, num_samples=1, generator=g).item()\n",
    "        context = context[1:] + [ix]\n",
    "        \n",
    "        out.append(ix)\n",
    "        if ix==0:\n",
    "            break\n",
    "    print(\"\".join(itos[i] for i in out))"
   ]
  },
  {
   "cell_type": "code",
   "execution_count": null,
   "metadata": {},
   "outputs": [],
   "source": []
  }
 ],
 "metadata": {
  "kernelspec": {
   "display_name": "venv_311",
   "language": "python",
   "name": "python3"
  },
  "language_info": {
   "codemirror_mode": {
    "name": "ipython",
    "version": 3
   },
   "file_extension": ".py",
   "mimetype": "text/x-python",
   "name": "python",
   "nbconvert_exporter": "python",
   "pygments_lexer": "ipython3",
   "version": "3.12.4"
  }
 },
 "nbformat": 4,
 "nbformat_minor": 2
}
